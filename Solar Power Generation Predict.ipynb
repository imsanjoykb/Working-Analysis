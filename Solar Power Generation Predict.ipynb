{
 "cells": [
  {
   "cell_type": "markdown",
   "metadata": {},
   "source": [
    "# Research Topic : Predict Solar Power Generation\n",
    "# Author : Sanjoy Biswas\n",
    "# Institute : Sylhet Engineering College"
   ]
  },
  {
   "cell_type": "markdown",
   "metadata": {},
   "source": [
    "## Import Necessary Library"
   ]
  },
  {
   "cell_type": "code",
   "execution_count": 114,
   "metadata": {
    "scrolled": true
   },
   "outputs": [],
   "source": [
    "import numpy as np\n",
    "import matplotlib.pyplot as plt\n",
    "import seaborn as sns\n",
    "import pandas as pd\n",
    "import os\n",
    "import re\n",
    "import pickle"
   ]
  },
  {
   "cell_type": "markdown",
   "metadata": {},
   "source": [
    "## Import Dataset"
   ]
  },
  {
   "cell_type": "code",
   "execution_count": 3,
   "metadata": {},
   "outputs": [],
   "source": [
    "plant1_GenData = pd.read_csv('Plant_1_Generation_Data.csv')"
   ]
  },
  {
   "cell_type": "code",
   "execution_count": 4,
   "metadata": {},
   "outputs": [],
   "source": [
    "plant2_GenData = pd.read_csv('Plant_2_Generation_Data.csv')"
   ]
  },
  {
   "cell_type": "code",
   "execution_count": 5,
   "metadata": {},
   "outputs": [],
   "source": [
    "plant1_WeatherSensorData = pd.read_csv('Plant_1_Weather_Sensor_Data.csv')"
   ]
  },
  {
   "cell_type": "code",
   "execution_count": 6,
   "metadata": {},
   "outputs": [],
   "source": [
    "plant2_WeatherSensorData = pd.read_csv('Plant_2_Weather_Sensor_Data.csv')"
   ]
  },
  {
   "cell_type": "code",
   "execution_count": 7,
   "metadata": {},
   "outputs": [
    {
     "data": {
      "text/html": [
       "<div>\n",
       "<style scoped>\n",
       "    .dataframe tbody tr th:only-of-type {\n",
       "        vertical-align: middle;\n",
       "    }\n",
       "\n",
       "    .dataframe tbody tr th {\n",
       "        vertical-align: top;\n",
       "    }\n",
       "\n",
       "    .dataframe thead th {\n",
       "        text-align: right;\n",
       "    }\n",
       "</style>\n",
       "<table border=\"1\" class=\"dataframe\">\n",
       "  <thead>\n",
       "    <tr style=\"text-align: right;\">\n",
       "      <th></th>\n",
       "      <th>DATE_TIME</th>\n",
       "      <th>PLANT_ID</th>\n",
       "      <th>SOURCE_KEY</th>\n",
       "      <th>DC_POWER</th>\n",
       "      <th>AC_POWER</th>\n",
       "      <th>DAILY_YIELD</th>\n",
       "      <th>TOTAL_YIELD</th>\n",
       "    </tr>\n",
       "  </thead>\n",
       "  <tbody>\n",
       "    <tr>\n",
       "      <td>0</td>\n",
       "      <td>15-05-2020 00:00</td>\n",
       "      <td>4135001</td>\n",
       "      <td>1BY6WEcLGh8j5v7</td>\n",
       "      <td>0.0</td>\n",
       "      <td>0.0</td>\n",
       "      <td>0.0</td>\n",
       "      <td>6259559.0</td>\n",
       "    </tr>\n",
       "    <tr>\n",
       "      <td>1</td>\n",
       "      <td>15-05-2020 00:00</td>\n",
       "      <td>4135001</td>\n",
       "      <td>1IF53ai7Xc0U56Y</td>\n",
       "      <td>0.0</td>\n",
       "      <td>0.0</td>\n",
       "      <td>0.0</td>\n",
       "      <td>6183645.0</td>\n",
       "    </tr>\n",
       "    <tr>\n",
       "      <td>2</td>\n",
       "      <td>15-05-2020 00:00</td>\n",
       "      <td>4135001</td>\n",
       "      <td>3PZuoBAID5Wc2HD</td>\n",
       "      <td>0.0</td>\n",
       "      <td>0.0</td>\n",
       "      <td>0.0</td>\n",
       "      <td>6987759.0</td>\n",
       "    </tr>\n",
       "    <tr>\n",
       "      <td>3</td>\n",
       "      <td>15-05-2020 00:00</td>\n",
       "      <td>4135001</td>\n",
       "      <td>7JYdWkrLSPkdwr4</td>\n",
       "      <td>0.0</td>\n",
       "      <td>0.0</td>\n",
       "      <td>0.0</td>\n",
       "      <td>7602960.0</td>\n",
       "    </tr>\n",
       "    <tr>\n",
       "      <td>4</td>\n",
       "      <td>15-05-2020 00:00</td>\n",
       "      <td>4135001</td>\n",
       "      <td>McdE0feGgRqW7Ca</td>\n",
       "      <td>0.0</td>\n",
       "      <td>0.0</td>\n",
       "      <td>0.0</td>\n",
       "      <td>7158964.0</td>\n",
       "    </tr>\n",
       "  </tbody>\n",
       "</table>\n",
       "</div>"
      ],
      "text/plain": [
       "          DATE_TIME  PLANT_ID       SOURCE_KEY  DC_POWER  AC_POWER  \\\n",
       "0  15-05-2020 00:00   4135001  1BY6WEcLGh8j5v7       0.0       0.0   \n",
       "1  15-05-2020 00:00   4135001  1IF53ai7Xc0U56Y       0.0       0.0   \n",
       "2  15-05-2020 00:00   4135001  3PZuoBAID5Wc2HD       0.0       0.0   \n",
       "3  15-05-2020 00:00   4135001  7JYdWkrLSPkdwr4       0.0       0.0   \n",
       "4  15-05-2020 00:00   4135001  McdE0feGgRqW7Ca       0.0       0.0   \n",
       "\n",
       "   DAILY_YIELD  TOTAL_YIELD  \n",
       "0          0.0    6259559.0  \n",
       "1          0.0    6183645.0  \n",
       "2          0.0    6987759.0  \n",
       "3          0.0    7602960.0  \n",
       "4          0.0    7158964.0  "
      ]
     },
     "execution_count": 7,
     "metadata": {},
     "output_type": "execute_result"
    }
   ],
   "source": [
    "plant1_GenData.head()"
   ]
  },
  {
   "cell_type": "code",
   "execution_count": 8,
   "metadata": {},
   "outputs": [
    {
     "data": {
      "text/html": [
       "<div>\n",
       "<style scoped>\n",
       "    .dataframe tbody tr th:only-of-type {\n",
       "        vertical-align: middle;\n",
       "    }\n",
       "\n",
       "    .dataframe tbody tr th {\n",
       "        vertical-align: top;\n",
       "    }\n",
       "\n",
       "    .dataframe thead th {\n",
       "        text-align: right;\n",
       "    }\n",
       "</style>\n",
       "<table border=\"1\" class=\"dataframe\">\n",
       "  <thead>\n",
       "    <tr style=\"text-align: right;\">\n",
       "      <th></th>\n",
       "      <th>DATE_TIME</th>\n",
       "      <th>PLANT_ID</th>\n",
       "      <th>SOURCE_KEY</th>\n",
       "      <th>AMBIENT_TEMPERATURE</th>\n",
       "      <th>MODULE_TEMPERATURE</th>\n",
       "      <th>IRRADIATION</th>\n",
       "    </tr>\n",
       "  </thead>\n",
       "  <tbody>\n",
       "    <tr>\n",
       "      <td>0</td>\n",
       "      <td>2020-05-15 00:00:00</td>\n",
       "      <td>4135001</td>\n",
       "      <td>HmiyD2TTLFNqkNe</td>\n",
       "      <td>25.184316</td>\n",
       "      <td>22.857507</td>\n",
       "      <td>0.0</td>\n",
       "    </tr>\n",
       "    <tr>\n",
       "      <td>1</td>\n",
       "      <td>2020-05-15 00:15:00</td>\n",
       "      <td>4135001</td>\n",
       "      <td>HmiyD2TTLFNqkNe</td>\n",
       "      <td>25.084589</td>\n",
       "      <td>22.761668</td>\n",
       "      <td>0.0</td>\n",
       "    </tr>\n",
       "    <tr>\n",
       "      <td>2</td>\n",
       "      <td>2020-05-15 00:30:00</td>\n",
       "      <td>4135001</td>\n",
       "      <td>HmiyD2TTLFNqkNe</td>\n",
       "      <td>24.935753</td>\n",
       "      <td>22.592306</td>\n",
       "      <td>0.0</td>\n",
       "    </tr>\n",
       "    <tr>\n",
       "      <td>3</td>\n",
       "      <td>2020-05-15 00:45:00</td>\n",
       "      <td>4135001</td>\n",
       "      <td>HmiyD2TTLFNqkNe</td>\n",
       "      <td>24.846130</td>\n",
       "      <td>22.360852</td>\n",
       "      <td>0.0</td>\n",
       "    </tr>\n",
       "    <tr>\n",
       "      <td>4</td>\n",
       "      <td>2020-05-15 01:00:00</td>\n",
       "      <td>4135001</td>\n",
       "      <td>HmiyD2TTLFNqkNe</td>\n",
       "      <td>24.621525</td>\n",
       "      <td>22.165423</td>\n",
       "      <td>0.0</td>\n",
       "    </tr>\n",
       "  </tbody>\n",
       "</table>\n",
       "</div>"
      ],
      "text/plain": [
       "             DATE_TIME  PLANT_ID       SOURCE_KEY  AMBIENT_TEMPERATURE  \\\n",
       "0  2020-05-15 00:00:00   4135001  HmiyD2TTLFNqkNe            25.184316   \n",
       "1  2020-05-15 00:15:00   4135001  HmiyD2TTLFNqkNe            25.084589   \n",
       "2  2020-05-15 00:30:00   4135001  HmiyD2TTLFNqkNe            24.935753   \n",
       "3  2020-05-15 00:45:00   4135001  HmiyD2TTLFNqkNe            24.846130   \n",
       "4  2020-05-15 01:00:00   4135001  HmiyD2TTLFNqkNe            24.621525   \n",
       "\n",
       "   MODULE_TEMPERATURE  IRRADIATION  \n",
       "0           22.857507          0.0  \n",
       "1           22.761668          0.0  \n",
       "2           22.592306          0.0  \n",
       "3           22.360852          0.0  \n",
       "4           22.165423          0.0  "
      ]
     },
     "execution_count": 8,
     "metadata": {},
     "output_type": "execute_result"
    }
   ],
   "source": [
    "plant1_WeatherSensorData.head()"
   ]
  },
  {
   "cell_type": "markdown",
   "metadata": {},
   "source": [
    "## Explotrary Data Analysis - EDA"
   ]
  },
  {
   "cell_type": "code",
   "execution_count": 9,
   "metadata": {},
   "outputs": [],
   "source": [
    "import matplotlib.pyplot as plt"
   ]
  },
  {
   "cell_type": "code",
   "execution_count": 10,
   "metadata": {},
   "outputs": [
    {
     "data": {
      "text/plain": [
       "DATE_TIME\n",
       "01-06-2020 00:00    22\n",
       "01-06-2020 00:15    22\n",
       "01-06-2020 00:30    22\n",
       "01-06-2020 00:45    22\n",
       "01-06-2020 01:00    22\n",
       "                    ..\n",
       "31-05-2020 22:45    22\n",
       "31-05-2020 23:00    22\n",
       "31-05-2020 23:15    22\n",
       "31-05-2020 23:30    22\n",
       "31-05-2020 23:45    22\n",
       "Name: DATE_TIME, Length: 3158, dtype: int64"
      ]
     },
     "execution_count": 10,
     "metadata": {},
     "output_type": "execute_result"
    }
   ],
   "source": [
    "plant1_GenData.groupby('DATE_TIME')['DATE_TIME'].count()"
   ]
  },
  {
   "cell_type": "code",
   "execution_count": 11,
   "metadata": {},
   "outputs": [
    {
     "data": {
      "text/plain": [
       "DATE_TIME\n",
       "2020-05-15 00:00:00    1\n",
       "2020-05-15 00:15:00    1\n",
       "2020-05-15 00:30:00    1\n",
       "2020-05-15 00:45:00    1\n",
       "2020-05-15 01:00:00    1\n",
       "                      ..\n",
       "2020-06-17 22:45:00    1\n",
       "2020-06-17 23:00:00    1\n",
       "2020-06-17 23:15:00    1\n",
       "2020-06-17 23:30:00    1\n",
       "2020-06-17 23:45:00    1\n",
       "Name: DATE_TIME, Length: 3182, dtype: int64"
      ]
     },
     "execution_count": 11,
     "metadata": {},
     "output_type": "execute_result"
    }
   ],
   "source": [
    "plant1_WeatherSensorData.groupby('DATE_TIME')['DATE_TIME'].count()"
   ]
  },
  {
   "cell_type": "code",
   "execution_count": 12,
   "metadata": {},
   "outputs": [],
   "source": [
    "dates = []\n",
    "for date in plant1_GenData['DATE_TIME']:\n",
    "    new_date = \"2020-\"\n",
    "    new_date += date[3:6]\n",
    "    new_date += date[0:2]\n",
    "    new_date += date[10:]\n",
    "    new_date += \":00\"\n",
    "    dates.append(new_date)"
   ]
  },
  {
   "cell_type": "code",
   "execution_count": 13,
   "metadata": {},
   "outputs": [],
   "source": [
    "plant1_GenData['DATE_TIME'] = dates"
   ]
  },
  {
   "cell_type": "code",
   "execution_count": 14,
   "metadata": {},
   "outputs": [
    {
     "data": {
      "text/plain": [
       "DATE_TIME\n",
       "2020-05-15 00:00:00    21\n",
       "2020-05-15 00:15:00    21\n",
       "2020-05-15 00:30:00    21\n",
       "2020-05-15 00:45:00    21\n",
       "2020-05-15 01:00:00    22\n",
       "                       ..\n",
       "2020-06-17 22:45:00    22\n",
       "2020-06-17 23:00:00    22\n",
       "2020-06-17 23:15:00    22\n",
       "2020-06-17 23:30:00    22\n",
       "2020-06-17 23:45:00    22\n",
       "Name: DATE_TIME, Length: 3158, dtype: int64"
      ]
     },
     "execution_count": 14,
     "metadata": {},
     "output_type": "execute_result"
    }
   ],
   "source": [
    "plant1_GenData.groupby('DATE_TIME')['DATE_TIME'].count()"
   ]
  },
  {
   "cell_type": "markdown",
   "metadata": {},
   "source": [
    "## Finding out which data points are missing from plant 1's Generator Data"
   ]
  },
  {
   "cell_type": "code",
   "execution_count": 16,
   "metadata": {},
   "outputs": [],
   "source": [
    "missing = [date for date in list(plant1_WeatherSensorData['DATE_TIME']) if date not in list(plant1_GenData['DATE_TIME'])]"
   ]
  },
  {
   "cell_type": "code",
   "execution_count": 17,
   "metadata": {},
   "outputs": [
    {
     "name": "stdout",
     "output_type": "stream",
     "text": [
      "['2020-05-20 23:00:00', '2020-05-20 23:15:00', '2020-05-20 23:30:00', '2020-05-20 23:45:00', '2020-05-21 00:00:00', '2020-05-21 00:15:00', '2020-05-21 00:30:00', '2020-05-23 05:15:00', '2020-05-25 05:45:00', '2020-05-28 22:30:00', '2020-05-28 22:45:00', '2020-05-28 23:00:00', '2020-05-28 23:15:00', '2020-05-28 23:30:00', '2020-05-28 23:45:00', '2020-05-29 00:00:00', '2020-05-29 00:15:00', '2020-05-29 00:30:00', '2020-05-29 00:45:00', '2020-05-29 01:00:00', '2020-05-29 01:15:00', '2020-05-29 01:30:00', '2020-05-29 01:45:00', '2020-06-17 06:15:00', '2020-06-17 06:30:00']\n"
     ]
    }
   ],
   "source": [
    "print(missing)"
   ]
  },
  {
   "cell_type": "code",
   "execution_count": 18,
   "metadata": {},
   "outputs": [],
   "source": [
    "columns = ['DC_POWER', 'AC_POWER', 'DAILY_YIELD', 'TOTAL_YIELD']"
   ]
  },
  {
   "cell_type": "code",
   "execution_count": 19,
   "metadata": {},
   "outputs": [],
   "source": [
    "means = []\n",
    "for column in columns:\n",
    "    means.append(plant1_GenData[column].mean())"
   ]
  },
  {
   "cell_type": "code",
   "execution_count": 20,
   "metadata": {},
   "outputs": [
    {
     "name": "stdout",
     "output_type": "stream",
     "text": [
      "[3147.4262112269266, 307.8027522655165, 3295.968737182587, 6978711.76067105]\n"
     ]
    }
   ],
   "source": [
    "print(means)"
   ]
  },
  {
   "cell_type": "code",
   "execution_count": 21,
   "metadata": {},
   "outputs": [],
   "source": [
    "for date in missing:\n",
    "    plant1_GenData = plant1_GenData.append({'DATE_TIME':date, 'PLANT_ID':'4135001', 'SOURCE_KEY':'1BY6WEcLGh8j5v7', 'DC_POWER':means[0], 'AC_POWER':means[1], 'DAILY_YIELD':means[2], 'TOTAL_YIELD':means[3]},ignore_index=True)"
   ]
  },
  {
   "cell_type": "code",
   "execution_count": 22,
   "metadata": {},
   "outputs": [
    {
     "name": "stdout",
     "output_type": "stream",
     "text": [
      "['2020-06-03 14:00:00', '2020-06-03 14:00:00', '2020-06-03 14:00:00', '2020-06-03 14:00:00']\n"
     ]
    }
   ],
   "source": [
    "print([date for date in list(plant1_GenData['DATE_TIME']) if date not in list(plant1_WeatherSensorData['DATE_TIME'])])"
   ]
  },
  {
   "cell_type": "code",
   "execution_count": 23,
   "metadata": {},
   "outputs": [],
   "source": [
    "columnsWSD = ['AMBIENT_TEMPERATURE', 'MODULE_TEMPERATURE', 'IRRADIATION']"
   ]
  },
  {
   "cell_type": "code",
   "execution_count": 24,
   "metadata": {},
   "outputs": [],
   "source": [
    "meansWSD = []\n",
    "for column in columnsWSD:\n",
    "    meansWSD.append(plant1_WeatherSensorData[column].mean())"
   ]
  },
  {
   "cell_type": "code",
   "execution_count": 25,
   "metadata": {},
   "outputs": [
    {
     "name": "stdout",
     "output_type": "stream",
     "text": [
      "[25.531605717564393, 31.091015378426455, 0.22831283006565095]\n"
     ]
    }
   ],
   "source": [
    "print(meansWSD)"
   ]
  },
  {
   "cell_type": "code",
   "execution_count": 26,
   "metadata": {},
   "outputs": [],
   "source": [
    "plant1_WeatherSensorData = plant1_WeatherSensorData.append({'DATE_TIME':'2020-06-03 14:00:00', 'PLANT_ID':'4135001', 'SOURCE_KEY':'HmiyD2TTLFNqkNe', columnsWSD[0]:meansWSD[0], columnsWSD[1]:meansWSD[1], columnsWSD[2]:meansWSD[2]},ignore_index=True)"
   ]
  },
  {
   "cell_type": "code",
   "execution_count": 27,
   "metadata": {},
   "outputs": [],
   "source": [
    "plant1 = plant1_WeatherSensorData.copy()"
   ]
  },
  {
   "cell_type": "code",
   "execution_count": 28,
   "metadata": {},
   "outputs": [],
   "source": [
    "combining = {'DC_POWER':[], 'AC_POWER':[], 'DAILY_YIELD':[], 'TOTAL_YIELD':[]}"
   ]
  },
  {
   "cell_type": "code",
   "execution_count": 29,
   "metadata": {},
   "outputs": [],
   "source": [
    "dcPower = {}\n",
    "acPower = {}\n",
    "dailyYield = {}\n",
    "totalYield = {}\n",
    "\n",
    "for i in range(len(plant1_GenData['DATE_TIME'])):\n",
    "    entry = plant1_GenData.iloc[i]\n",
    "    date = entry['DATE_TIME']\n",
    "    if date in dcPower:\n",
    "        dcPower[date]['total'] += entry['DC_POWER']\n",
    "        dcPower[date]['num'] += 1\n",
    "        acPower[date]['total'] += entry['AC_POWER']\n",
    "        acPower[date]['num'] += 1\n",
    "        dailyYield[date]['total'] += entry['DAILY_YIELD']\n",
    "        dailyYield[date]['num'] += 1\n",
    "        totalYield[date]['total'] += entry['TOTAL_YIELD']\n",
    "        totalYield[date]['num'] += 1\n",
    "    else:\n",
    "        dcPower[date] = {'total':entry['DC_POWER'], 'num':1}\n",
    "        acPower[date] = {'total':entry['AC_POWER'], 'num':1}\n",
    "        dailyYield[date] = {'total':entry['DAILY_YIELD'], 'num':1}\n",
    "        totalYield[date] = {'total':entry['TOTAL_YIELD'], 'num':1}"
   ]
  },
  {
   "cell_type": "code",
   "execution_count": 30,
   "metadata": {},
   "outputs": [],
   "source": [
    "for key in dcPower.keys():\n",
    "    dcPower[key]['mean'] = dcPower[key]['total']/dcPower[key]['num']"
   ]
  },
  {
   "cell_type": "code",
   "execution_count": 31,
   "metadata": {},
   "outputs": [],
   "source": [
    "for key in acPower.keys():\n",
    "    acPower[key]['mean'] = acPower[key]['total']/acPower[key]['num']"
   ]
  },
  {
   "cell_type": "code",
   "execution_count": 32,
   "metadata": {},
   "outputs": [],
   "source": [
    "for key in dailyYield.keys():\n",
    "    dailyYield[key]['mean'] = dailyYield[key]['total']/dailyYield[key]['num']"
   ]
  },
  {
   "cell_type": "code",
   "execution_count": 33,
   "metadata": {},
   "outputs": [],
   "source": [
    "for key in totalYield.keys():\n",
    "    totalYield[key]['mean'] = totalYield[key]['total']/totalYield[key]['num']"
   ]
  },
  {
   "cell_type": "code",
   "execution_count": 34,
   "metadata": {},
   "outputs": [],
   "source": [
    "for i in range(len(plant1['DATE_TIME'])):\n",
    "    entry = plant1.iloc[i]\n",
    "    date = entry['DATE_TIME']\n",
    "    combining['DC_POWER'].append(dcPower[date]['mean'])\n",
    "    combining['AC_POWER'].append(acPower[date]['mean'])\n",
    "    combining['DAILY_YIELD'].append(dailyYield[date]['mean'])\n",
    "    combining['TOTAL_YIELD'].append(totalYield[date]['mean'])"
   ]
  },
  {
   "cell_type": "code",
   "execution_count": 35,
   "metadata": {},
   "outputs": [],
   "source": [
    "for key in combining.keys():\n",
    "    plant1[key] = combining[key]"
   ]
  },
  {
   "cell_type": "code",
   "execution_count": 36,
   "metadata": {},
   "outputs": [
    {
     "data": {
      "text/html": [
       "<div>\n",
       "<style scoped>\n",
       "    .dataframe tbody tr th:only-of-type {\n",
       "        vertical-align: middle;\n",
       "    }\n",
       "\n",
       "    .dataframe tbody tr th {\n",
       "        vertical-align: top;\n",
       "    }\n",
       "\n",
       "    .dataframe thead th {\n",
       "        text-align: right;\n",
       "    }\n",
       "</style>\n",
       "<table border=\"1\" class=\"dataframe\">\n",
       "  <thead>\n",
       "    <tr style=\"text-align: right;\">\n",
       "      <th></th>\n",
       "      <th>DATE_TIME</th>\n",
       "      <th>PLANT_ID</th>\n",
       "      <th>SOURCE_KEY</th>\n",
       "      <th>AMBIENT_TEMPERATURE</th>\n",
       "      <th>MODULE_TEMPERATURE</th>\n",
       "      <th>IRRADIATION</th>\n",
       "      <th>DC_POWER</th>\n",
       "      <th>AC_POWER</th>\n",
       "      <th>DAILY_YIELD</th>\n",
       "      <th>TOTAL_YIELD</th>\n",
       "    </tr>\n",
       "  </thead>\n",
       "  <tbody>\n",
       "    <tr>\n",
       "      <td>0</td>\n",
       "      <td>2020-05-15 00:00:00</td>\n",
       "      <td>4135001</td>\n",
       "      <td>HmiyD2TTLFNqkNe</td>\n",
       "      <td>25.184316</td>\n",
       "      <td>22.857507</td>\n",
       "      <td>0.0</td>\n",
       "      <td>0.0</td>\n",
       "      <td>0.0</td>\n",
       "      <td>0.0</td>\n",
       "      <td>6.837223e+06</td>\n",
       "    </tr>\n",
       "    <tr>\n",
       "      <td>1</td>\n",
       "      <td>2020-05-15 00:15:00</td>\n",
       "      <td>4135001</td>\n",
       "      <td>HmiyD2TTLFNqkNe</td>\n",
       "      <td>25.084589</td>\n",
       "      <td>22.761668</td>\n",
       "      <td>0.0</td>\n",
       "      <td>0.0</td>\n",
       "      <td>0.0</td>\n",
       "      <td>0.0</td>\n",
       "      <td>6.837223e+06</td>\n",
       "    </tr>\n",
       "    <tr>\n",
       "      <td>2</td>\n",
       "      <td>2020-05-15 00:30:00</td>\n",
       "      <td>4135001</td>\n",
       "      <td>HmiyD2TTLFNqkNe</td>\n",
       "      <td>24.935753</td>\n",
       "      <td>22.592306</td>\n",
       "      <td>0.0</td>\n",
       "      <td>0.0</td>\n",
       "      <td>0.0</td>\n",
       "      <td>0.0</td>\n",
       "      <td>6.837223e+06</td>\n",
       "    </tr>\n",
       "    <tr>\n",
       "      <td>3</td>\n",
       "      <td>2020-05-15 00:45:00</td>\n",
       "      <td>4135001</td>\n",
       "      <td>HmiyD2TTLFNqkNe</td>\n",
       "      <td>24.846130</td>\n",
       "      <td>22.360852</td>\n",
       "      <td>0.0</td>\n",
       "      <td>0.0</td>\n",
       "      <td>0.0</td>\n",
       "      <td>0.0</td>\n",
       "      <td>6.837223e+06</td>\n",
       "    </tr>\n",
       "    <tr>\n",
       "      <td>4</td>\n",
       "      <td>2020-05-15 01:00:00</td>\n",
       "      <td>4135001</td>\n",
       "      <td>HmiyD2TTLFNqkNe</td>\n",
       "      <td>24.621525</td>\n",
       "      <td>22.165423</td>\n",
       "      <td>0.0</td>\n",
       "      <td>0.0</td>\n",
       "      <td>0.0</td>\n",
       "      <td>0.0</td>\n",
       "      <td>6.852802e+06</td>\n",
       "    </tr>\n",
       "  </tbody>\n",
       "</table>\n",
       "</div>"
      ],
      "text/plain": [
       "             DATE_TIME PLANT_ID       SOURCE_KEY  AMBIENT_TEMPERATURE  \\\n",
       "0  2020-05-15 00:00:00  4135001  HmiyD2TTLFNqkNe            25.184316   \n",
       "1  2020-05-15 00:15:00  4135001  HmiyD2TTLFNqkNe            25.084589   \n",
       "2  2020-05-15 00:30:00  4135001  HmiyD2TTLFNqkNe            24.935753   \n",
       "3  2020-05-15 00:45:00  4135001  HmiyD2TTLFNqkNe            24.846130   \n",
       "4  2020-05-15 01:00:00  4135001  HmiyD2TTLFNqkNe            24.621525   \n",
       "\n",
       "   MODULE_TEMPERATURE  IRRADIATION  DC_POWER  AC_POWER  DAILY_YIELD  \\\n",
       "0           22.857507          0.0       0.0       0.0          0.0   \n",
       "1           22.761668          0.0       0.0       0.0          0.0   \n",
       "2           22.592306          0.0       0.0       0.0          0.0   \n",
       "3           22.360852          0.0       0.0       0.0          0.0   \n",
       "4           22.165423          0.0       0.0       0.0          0.0   \n",
       "\n",
       "    TOTAL_YIELD  \n",
       "0  6.837223e+06  \n",
       "1  6.837223e+06  \n",
       "2  6.837223e+06  \n",
       "3  6.837223e+06  \n",
       "4  6.852802e+06  "
      ]
     },
     "execution_count": 36,
     "metadata": {},
     "output_type": "execute_result"
    }
   ],
   "source": [
    "plant1.head()"
   ]
  },
  {
   "cell_type": "markdown",
   "metadata": {},
   "source": [
    "## Data Point Analysis Using Visualization"
   ]
  },
  {
   "cell_type": "code",
   "execution_count": 37,
   "metadata": {},
   "outputs": [
    {
     "data": {
      "text/plain": [
       "<matplotlib.axes._subplots.AxesSubplot at 0x2591905c688>"
      ]
     },
     "execution_count": 37,
     "metadata": {},
     "output_type": "execute_result"
    },
    {
     "data": {
      "image/png": "[encoded data removed]",
      "text/plain": [
       "<Figure size 432x288 with 1 Axes>"
      ]
     },
     "metadata": {
      "needs_background": "light"
     },
     "output_type": "display_data"
    }
   ],
   "source": [
    "plant1.plot(kind='scatter',x='AMBIENT_TEMPERATURE',y='MODULE_TEMPERATURE',color='red')"
   ]
  },
  {
   "cell_type": "code",
   "execution_count": 38,
   "metadata": {},
   "outputs": [
    {
     "data": {
      "text/plain": [
       "<matplotlib.axes._subplots.AxesSubplot at 0x2591b1ff848>"
      ]
     },
     "execution_count": 38,
     "metadata": {},
     "output_type": "execute_result"
    },
    {
     "data": {
      "image/png": "[encoded data removed]",
      "text/plain": [
       "<Figure size 432x288 with 1 Axes>"
      ]
     },
     "metadata": {
      "needs_background": "light"
     },
     "output_type": "display_data"
    }
   ],
   "source": [
    "plant1.plot(kind='scatter',x='MODULE_TEMPERATURE',y='DC_POWER',color='red')"
   ]
  },
  {
   "cell_type": "code",
   "execution_count": 39,
   "metadata": {},
   "outputs": [
    {
     "data": {
      "text/plain": [
       "<matplotlib.axes._subplots.AxesSubplot at 0x2591b2b11c8>"
      ]
     },
     "execution_count": 39,
     "metadata": {},
     "output_type": "execute_result"
    },
    {
     "data": {
      "image/png": "[encoded data removed]",
      "text/plain": [
       "<Figure size 432x288 with 1 Axes>"
      ]
     },
     "metadata": {
      "needs_background": "light"
     },
     "output_type": "display_data"
    }
   ],
   "source": [
    "plant1.plot(kind='scatter',x='MODULE_TEMPERATURE',y='AC_POWER',color='red')"
   ]
  },
  {
   "cell_type": "code",
   "execution_count": 40,
   "metadata": {},
   "outputs": [
    {
     "data": {
      "text/plain": [
       "<matplotlib.axes._subplots.AxesSubplot at 0x2591b56c408>"
      ]
     },
     "execution_count": 40,
     "metadata": {},
     "output_type": "execute_result"
    },
    {
     "data": {
      "image/png": "[encoded data removed]",
      "text/plain": [
       "<Figure size 432x288 with 1 Axes>"
      ]
     },
     "metadata": {
      "needs_background": "light"
     },
     "output_type": "display_data"
    }
   ],
   "source": [
    "plant1.plot(kind='scatter',x='DC_POWER',y='IRRADIATION',color='red')"
   ]
  },
  {
   "cell_type": "code",
   "execution_count": 41,
   "metadata": {},
   "outputs": [
    {
     "data": {
      "text/plain": [
       "<matplotlib.axes._subplots.AxesSubplot at 0x2591b5d0748>"
      ]
     },
     "execution_count": 41,
     "metadata": {},
     "output_type": "execute_result"
    },
    {
     "data": {
      "image/png": "[encoded data removed]",
      "text/plain": [
       "<Figure size 432x288 with 1 Axes>"
      ]
     },
     "metadata": {
      "needs_background": "light"
     },
     "output_type": "display_data"
    }
   ],
   "source": [
    "plant1.plot(kind='scatter',x='AC_POWER',y='IRRADIATION',color='red')"
   ]
  },
  {
   "cell_type": "code",
   "execution_count": null,
   "metadata": {},
   "outputs": [],
   "source": []
  },
  {
   "cell_type": "code",
   "execution_count": null,
   "metadata": {},
   "outputs": [],
   "source": []
  },
  {
   "cell_type": "code",
   "execution_count": 42,
   "metadata": {},
   "outputs": [],
   "source": [
    "### Let us now process Plant 2's data in a similar fashion"
   ]
  },
  {
   "cell_type": "code",
   "execution_count": 43,
   "metadata": {},
   "outputs": [],
   "source": [
    "plant2 = plant2_WeatherSensorData.copy()"
   ]
  },
  {
   "cell_type": "code",
   "execution_count": 44,
   "metadata": {},
   "outputs": [],
   "source": [
    "dcPower2 = {}\n",
    "acPower2 = {}\n",
    "dailyYield2 = {}\n",
    "totalYield2 = {}\n",
    "\n",
    "for i in range(len(plant2_GenData['DATE_TIME'])):\n",
    "    entry = plant2_GenData.iloc[i]\n",
    "    date = entry['DATE_TIME']\n",
    "    if date in dcPower2:\n",
    "        dcPower2[date]['total'] += entry['DC_POWER']\n",
    "        dcPower2[date]['num'] += 1\n",
    "        acPower2[date]['total'] += entry['AC_POWER']\n",
    "        acPower2[date]['num'] += 1\n",
    "        dailyYield2[date]['total'] += entry['DAILY_YIELD']\n",
    "        dailyYield2[date]['num'] += 1\n",
    "        totalYield2[date]['total'] += entry['TOTAL_YIELD']\n",
    "        totalYield2[date]['num'] += 1\n",
    "    else:\n",
    "        dcPower2[date] = {'total':entry['DC_POWER'], 'num':1}\n",
    "        acPower2[date] = {'total':entry['AC_POWER'], 'num':1}\n",
    "        dailyYield2[date] = {'total':entry['DAILY_YIELD'], 'num':1}\n",
    "        totalYield2[date] = {'total':entry['TOTAL_YIELD'], 'num':1}"
   ]
  },
  {
   "cell_type": "code",
   "execution_count": 45,
   "metadata": {},
   "outputs": [],
   "source": [
    "for key in dcPower2.keys():\n",
    "    dcPower2[key]['mean'] = dcPower2[key]['total']/dcPower2[key]['num']"
   ]
  },
  {
   "cell_type": "code",
   "execution_count": 46,
   "metadata": {},
   "outputs": [],
   "source": [
    "for key in acPower2.keys():\n",
    "    acPower2[key]['mean'] = acPower2[key]['total']/acPower2[key]['num']"
   ]
  },
  {
   "cell_type": "code",
   "execution_count": 47,
   "metadata": {},
   "outputs": [],
   "source": [
    "for key in dailyYield2.keys():\n",
    "    dailyYield2[key]['mean'] = dailyYield2[key]['total']/dailyYield2[key]['num']"
   ]
  },
  {
   "cell_type": "code",
   "execution_count": 48,
   "metadata": {},
   "outputs": [],
   "source": [
    "for key in totalYield2.keys():\n",
    "    totalYield2[key]['mean'] = totalYield2[key]['total']/totalYield2[key]['num']"
   ]
  },
  {
   "cell_type": "code",
   "execution_count": 49,
   "metadata": {},
   "outputs": [],
   "source": [
    "combining2 = {'DC_POWER':[], 'AC_POWER':[], 'DAILY_YIELD':[], 'TOTAL_YIELD':[]}"
   ]
  },
  {
   "cell_type": "code",
   "execution_count": 50,
   "metadata": {},
   "outputs": [],
   "source": [
    "for i in range(len(plant2['DATE_TIME'])):\n",
    "    entry = plant2.iloc[i]\n",
    "    date = entry['DATE_TIME']\n",
    "    combining2['DC_POWER'].append(dcPower2[date]['mean'])\n",
    "    combining2['AC_POWER'].append(acPower2[date]['mean'])\n",
    "    combining2['DAILY_YIELD'].append(dailyYield2[date]['mean'])\n",
    "    combining2['TOTAL_YIELD'].append(totalYield2[date]['mean'])"
   ]
  },
  {
   "cell_type": "code",
   "execution_count": 51,
   "metadata": {},
   "outputs": [],
   "source": [
    "for key in combining2.keys():\n",
    "    plant2[key] = combining2[key]"
   ]
  },
  {
   "cell_type": "code",
   "execution_count": 52,
   "metadata": {},
   "outputs": [
    {
     "data": {
      "text/html": [
       "<div>\n",
       "<style scoped>\n",
       "    .dataframe tbody tr th:only-of-type {\n",
       "        vertical-align: middle;\n",
       "    }\n",
       "\n",
       "    .dataframe tbody tr th {\n",
       "        vertical-align: top;\n",
       "    }\n",
       "\n",
       "    .dataframe thead th {\n",
       "        text-align: right;\n",
       "    }\n",
       "</style>\n",
       "<table border=\"1\" class=\"dataframe\">\n",
       "  <thead>\n",
       "    <tr style=\"text-align: right;\">\n",
       "      <th></th>\n",
       "      <th>DATE_TIME</th>\n",
       "      <th>PLANT_ID</th>\n",
       "      <th>SOURCE_KEY</th>\n",
       "      <th>AMBIENT_TEMPERATURE</th>\n",
       "      <th>MODULE_TEMPERATURE</th>\n",
       "      <th>IRRADIATION</th>\n",
       "      <th>DC_POWER</th>\n",
       "      <th>AC_POWER</th>\n",
       "      <th>DAILY_YIELD</th>\n",
       "      <th>TOTAL_YIELD</th>\n",
       "    </tr>\n",
       "  </thead>\n",
       "  <tbody>\n",
       "    <tr>\n",
       "      <td>0</td>\n",
       "      <td>2020-05-15 00:00:00</td>\n",
       "      <td>4136001</td>\n",
       "      <td>iq8k7ZNt4Mwm3w0</td>\n",
       "      <td>27.004764</td>\n",
       "      <td>25.060789</td>\n",
       "      <td>0.0</td>\n",
       "      <td>0.0</td>\n",
       "      <td>0.0</td>\n",
       "      <td>2222.724459</td>\n",
       "      <td>6.449816e+08</td>\n",
       "    </tr>\n",
       "    <tr>\n",
       "      <td>1</td>\n",
       "      <td>2020-05-15 00:15:00</td>\n",
       "      <td>4136001</td>\n",
       "      <td>iq8k7ZNt4Mwm3w0</td>\n",
       "      <td>26.880811</td>\n",
       "      <td>24.421869</td>\n",
       "      <td>0.0</td>\n",
       "      <td>0.0</td>\n",
       "      <td>0.0</td>\n",
       "      <td>1290.954545</td>\n",
       "      <td>6.449816e+08</td>\n",
       "    </tr>\n",
       "    <tr>\n",
       "      <td>2</td>\n",
       "      <td>2020-05-15 00:30:00</td>\n",
       "      <td>4136001</td>\n",
       "      <td>iq8k7ZNt4Mwm3w0</td>\n",
       "      <td>26.682055</td>\n",
       "      <td>24.427290</td>\n",
       "      <td>0.0</td>\n",
       "      <td>0.0</td>\n",
       "      <td>0.0</td>\n",
       "      <td>1290.954545</td>\n",
       "      <td>6.449816e+08</td>\n",
       "    </tr>\n",
       "    <tr>\n",
       "      <td>3</td>\n",
       "      <td>2020-05-15 00:45:00</td>\n",
       "      <td>4136001</td>\n",
       "      <td>iq8k7ZNt4Mwm3w0</td>\n",
       "      <td>26.500589</td>\n",
       "      <td>24.420678</td>\n",
       "      <td>0.0</td>\n",
       "      <td>0.0</td>\n",
       "      <td>0.0</td>\n",
       "      <td>1290.954545</td>\n",
       "      <td>6.449816e+08</td>\n",
       "    </tr>\n",
       "    <tr>\n",
       "      <td>4</td>\n",
       "      <td>2020-05-15 01:00:00</td>\n",
       "      <td>4136001</td>\n",
       "      <td>iq8k7ZNt4Mwm3w0</td>\n",
       "      <td>26.596148</td>\n",
       "      <td>25.088210</td>\n",
       "      <td>0.0</td>\n",
       "      <td>0.0</td>\n",
       "      <td>0.0</td>\n",
       "      <td>1205.272727</td>\n",
       "      <td>6.449816e+08</td>\n",
       "    </tr>\n",
       "  </tbody>\n",
       "</table>\n",
       "</div>"
      ],
      "text/plain": [
       "             DATE_TIME  PLANT_ID       SOURCE_KEY  AMBIENT_TEMPERATURE  \\\n",
       "0  2020-05-15 00:00:00   4136001  iq8k7ZNt4Mwm3w0            27.004764   \n",
       "1  2020-05-15 00:15:00   4136001  iq8k7ZNt4Mwm3w0            26.880811   \n",
       "2  2020-05-15 00:30:00   4136001  iq8k7ZNt4Mwm3w0            26.682055   \n",
       "3  2020-05-15 00:45:00   4136001  iq8k7ZNt4Mwm3w0            26.500589   \n",
       "4  2020-05-15 01:00:00   4136001  iq8k7ZNt4Mwm3w0            26.596148   \n",
       "\n",
       "   MODULE_TEMPERATURE  IRRADIATION  DC_POWER  AC_POWER  DAILY_YIELD  \\\n",
       "0           25.060789          0.0       0.0       0.0  2222.724459   \n",
       "1           24.421869          0.0       0.0       0.0  1290.954545   \n",
       "2           24.427290          0.0       0.0       0.0  1290.954545   \n",
       "3           24.420678          0.0       0.0       0.0  1290.954545   \n",
       "4           25.088210          0.0       0.0       0.0  1205.272727   \n",
       "\n",
       "    TOTAL_YIELD  \n",
       "0  6.449816e+08  \n",
       "1  6.449816e+08  \n",
       "2  6.449816e+08  \n",
       "3  6.449816e+08  \n",
       "4  6.449816e+08  "
      ]
     },
     "execution_count": 52,
     "metadata": {},
     "output_type": "execute_result"
    }
   ],
   "source": [
    "plant2.head()"
   ]
  },
  {
   "cell_type": "code",
   "execution_count": 53,
   "metadata": {},
   "outputs": [
    {
     "data": {
      "text/plain": [
       "<matplotlib.axes._subplots.AxesSubplot at 0x2591b63e908>"
      ]
     },
     "execution_count": 53,
     "metadata": {},
     "output_type": "execute_result"
    },
    {
     "data": {
      "image/png": "[encoded data removed]",
      "text/plain": [
       "<Figure size 432x288 with 1 Axes>"
      ]
     },
     "metadata": {
      "needs_background": "light"
     },
     "output_type": "display_data"
    }
   ],
   "source": [
    "plant2.plot(kind='scatter',x='AMBIENT_TEMPERATURE',y='MODULE_TEMPERATURE',color='red')"
   ]
  },
  {
   "cell_type": "code",
   "execution_count": 54,
   "metadata": {},
   "outputs": [
    {
     "data": {
      "text/plain": [
       "<matplotlib.axes._subplots.AxesSubplot at 0x2591bac87c8>"
      ]
     },
     "execution_count": 54,
     "metadata": {},
     "output_type": "execute_result"
    },
    {
     "data": {
      "image/png": "[encoded data removed]",
      "text/plain": [
       "<Figure size 432x288 with 1 Axes>"
      ]
     },
     "metadata": {
      "needs_background": "light"
     },
     "output_type": "display_data"
    }
   ],
   "source": [
    "plant2.plot(kind='scatter',x='MODULE_TEMPERATURE',y='DC_POWER',color='red')"
   ]
  },
  {
   "cell_type": "code",
   "execution_count": 55,
   "metadata": {},
   "outputs": [
    {
     "data": {
      "text/plain": [
       "<matplotlib.axes._subplots.AxesSubplot at 0x2591bb29f08>"
      ]
     },
     "execution_count": 55,
     "metadata": {},
     "output_type": "execute_result"
    },
    {
     "data": {
      "image/png": "[encoded data removed]",
      "text/plain": [
       "<Figure size 432x288 with 1 Axes>"
      ]
     },
     "metadata": {
      "needs_background": "light"
     },
     "output_type": "display_data"
    }
   ],
   "source": [
    "plant2.plot(kind='scatter',x='MODULE_TEMPERATURE',y='AC_POWER',color='red')"
   ]
  },
  {
   "cell_type": "code",
   "execution_count": 56,
   "metadata": {},
   "outputs": [
    {
     "data": {
      "text/plain": [
       "<matplotlib.axes._subplots.AxesSubplot at 0x2591bb95988>"
      ]
     },
     "execution_count": 56,
     "metadata": {},
     "output_type": "execute_result"
    },
    {
     "data": {
      "image/png": "[encoded data removed]",
      "text/plain": [
       "<Figure size 432x288 with 1 Axes>"
      ]
     },
     "metadata": {
      "needs_background": "light"
     },
     "output_type": "display_data"
    }
   ],
   "source": [
    "plant2.plot(kind='scatter',x='DC_POWER',y='IRRADIATION',color='red')"
   ]
  },
  {
   "cell_type": "code",
   "execution_count": 57,
   "metadata": {},
   "outputs": [
    {
     "data": {
      "text/plain": [
       "<matplotlib.axes._subplots.AxesSubplot at 0x2591bbfd7c8>"
      ]
     },
     "execution_count": 57,
     "metadata": {},
     "output_type": "execute_result"
    },
    {
     "data": {
      "image/png": "[encoded data removed]",
      "text/plain": [
       "<Figure size 432x288 with 1 Axes>"
      ]
     },
     "metadata": {
      "needs_background": "light"
     },
     "output_type": "display_data"
    }
   ],
   "source": [
    "plant2.plot(kind='scatter',x='AC_POWER',y='IRRADIATION',color='red')"
   ]
  },
  {
   "cell_type": "code",
   "execution_count": 58,
   "metadata": {},
   "outputs": [],
   "source": [
    "### Plant 2 has a weaker correlation between ambient temperature and module temperature ; module temperature and dc power ;"
   ]
  },
  {
   "cell_type": "code",
   "execution_count": 59,
   "metadata": {},
   "outputs": [],
   "source": [
    "### module temperature and ac power ; dc power and irradiation ; ac power and irradiation."
   ]
  },
  {
   "cell_type": "code",
   "execution_count": 60,
   "metadata": {},
   "outputs": [],
   "source": [
    "### The conclusions that we can derive from these plots are that the Ambient temperature raises the Module temperature\n",
    "### which in turn affects the DC and AC power generated by the solar power generator, the increase in DC and AC power\n",
    "### being generated means an increase in Irradiation"
   ]
  },
  {
   "cell_type": "code",
   "execution_count": 61,
   "metadata": {},
   "outputs": [],
   "source": [
    "### Now that we have formed our hypothesis, we can create a linear regression model and train it using our Plant2 Data\n",
    "### in order to predict DC and AC power generation, and irradiation levels which identify the need for panel\n",
    "### cleaning/maintenance. If the DC or AC power generation does not fit our trained model then we can identify\n",
    "### faulty or suboptimally performing equipment."
   ]
  },
  {
   "cell_type": "code",
   "execution_count": 62,
   "metadata": {},
   "outputs": [],
   "source": [
    "### First we will train a model on the ambient temperature in order to predict dc power.\n",
    "### We will run two iterations: 1) We use plant 1 as training data and plant 2 as test 2) vice versa.\n",
    "### My hypothesis is that we will obtain better results by using plant 2 as training data since there are\n",
    "### more abnormalities in plant 2's data than plant 1 hence the model will have much less variance with\n",
    "### the tradeoff of slight higher bias"
   ]
  },
  {
   "cell_type": "code",
   "execution_count": 63,
   "metadata": {},
   "outputs": [],
   "source": [
    "X_train, y_train = plant1[['AMBIENT_TEMPERATURE']], plant1['DC_POWER']"
   ]
  },
  {
   "cell_type": "markdown",
   "metadata": {},
   "source": [
    "## Let's start off with a basic linear regression model"
   ]
  },
  {
   "cell_type": "code",
   "execution_count": 65,
   "metadata": {},
   "outputs": [],
   "source": [
    "from sklearn.linear_model import LinearRegression"
   ]
  },
  {
   "cell_type": "code",
   "execution_count": 66,
   "metadata": {},
   "outputs": [],
   "source": [
    "linear_model = LinearRegression()"
   ]
  },
  {
   "cell_type": "code",
   "execution_count": 67,
   "metadata": {},
   "outputs": [
    {
     "data": {
      "text/plain": [
       "LinearRegression()"
      ]
     },
     "execution_count": 67,
     "metadata": {},
     "output_type": "execute_result"
    }
   ],
   "source": [
    "linear_model.fit(X_train, y_train)"
   ]
  },
  {
   "cell_type": "code",
   "execution_count": 68,
   "metadata": {},
   "outputs": [],
   "source": [
    "X_test, y_test = plant2[['AMBIENT_TEMPERATURE']], plant2['DC_POWER']"
   ]
  },
  {
   "cell_type": "code",
   "execution_count": 69,
   "metadata": {},
   "outputs": [],
   "source": [
    "y_pred = linear_model.predict(X_test)"
   ]
  },
  {
   "cell_type": "code",
   "execution_count": 70,
   "metadata": {},
   "outputs": [
    {
     "data": {
      "text/plain": [
       "array([4383.15382204, 4276.77875188, 4106.20750356, ..., 1250.72823205,\n",
       "       1196.06613157, 1120.39270787])"
      ]
     },
     "execution_count": 70,
     "metadata": {},
     "output_type": "execute_result"
    }
   ],
   "source": [
    "y_pred"
   ]
  },
  {
   "cell_type": "code",
   "execution_count": 71,
   "metadata": {},
   "outputs": [],
   "source": [
    "### Now that we have our predictions from our basic linear regression model let's use the Mean Absolute Error"
   ]
  },
  {
   "cell_type": "code",
   "execution_count": 72,
   "metadata": {},
   "outputs": [],
   "source": [
    "### to see how well our model did"
   ]
  },
  {
   "cell_type": "markdown",
   "metadata": {},
   "source": [
    "## Error Analysis"
   ]
  },
  {
   "cell_type": "code",
   "execution_count": 73,
   "metadata": {},
   "outputs": [],
   "source": [
    "from sklearn.metrics import mean_absolute_error"
   ]
  },
  {
   "cell_type": "code",
   "execution_count": 74,
   "metadata": {},
   "outputs": [
    {
     "data": {
      "text/plain": [
       "5050.507295322665"
      ]
     },
     "execution_count": 74,
     "metadata": {},
     "output_type": "execute_result"
    }
   ],
   "source": [
    "mean_absolute_error(y_test, y_pred)"
   ]
  },
  {
   "cell_type": "code",
   "execution_count": 75,
   "metadata": {},
   "outputs": [],
   "source": [
    "### Let's compare with a DecisionTreeRegressor and XGBoostRegressor"
   ]
  },
  {
   "cell_type": "markdown",
   "metadata": {},
   "source": [
    "## Let's Decision Tree Regressor"
   ]
  },
  {
   "cell_type": "code",
   "execution_count": 76,
   "metadata": {},
   "outputs": [],
   "source": [
    "from sklearn.tree import DecisionTreeRegressor"
   ]
  },
  {
   "cell_type": "code",
   "execution_count": 77,
   "metadata": {},
   "outputs": [],
   "source": [
    "decisiontree_model = DecisionTreeRegressor()"
   ]
  },
  {
   "cell_type": "code",
   "execution_count": 78,
   "metadata": {},
   "outputs": [
    {
     "data": {
      "text/plain": [
       "DecisionTreeRegressor()"
      ]
     },
     "execution_count": 78,
     "metadata": {},
     "output_type": "execute_result"
    }
   ],
   "source": [
    "decisiontree_model.fit(X_train, y_train)"
   ]
  },
  {
   "cell_type": "code",
   "execution_count": 79,
   "metadata": {},
   "outputs": [],
   "source": [
    "y_pred = decisiontree_model.predict(X_test)"
   ]
  },
  {
   "cell_type": "code",
   "execution_count": 80,
   "metadata": {},
   "outputs": [
    {
     "data": {
      "text/plain": [
       "4423.280626768332"
      ]
     },
     "execution_count": 80,
     "metadata": {},
     "output_type": "execute_result"
    }
   ],
   "source": [
    "mean_absolute_error(y_test, y_pred)"
   ]
  },
  {
   "cell_type": "markdown",
   "metadata": {},
   "source": [
    "## Let's XGBoost Regressor"
   ]
  },
  {
   "cell_type": "code",
   "execution_count": 81,
   "metadata": {},
   "outputs": [],
   "source": [
    "from xgboost import XGBRegressor"
   ]
  },
  {
   "cell_type": "code",
   "execution_count": 82,
   "metadata": {},
   "outputs": [],
   "source": [
    "xgboost_model = XGBRegressor()"
   ]
  },
  {
   "cell_type": "code",
   "execution_count": 83,
   "metadata": {},
   "outputs": [
    {
     "data": {
      "text/plain": [
       "XGBRegressor(base_score=0.5, booster='gbtree', colsample_bylevel=1,\n",
       "             colsample_bynode=1, colsample_bytree=1, gamma=0, gpu_id=-1,\n",
       "             importance_type='gain', interaction_constraints='',\n",
       "             learning_rate=0.300000012, max_delta_step=0, max_depth=6,\n",
       "             min_child_weight=1, missing=nan, monotone_constraints='()',\n",
       "             n_estimators=100, n_jobs=0, num_parallel_tree=1, random_state=0,\n",
       "             reg_alpha=0, reg_lambda=1, scale_pos_weight=1, subsample=1,\n",
       "             tree_method='exact', validate_parameters=1, verbosity=None)"
      ]
     },
     "execution_count": 83,
     "metadata": {},
     "output_type": "execute_result"
    }
   ],
   "source": [
    "xgboost_model.fit(X_train, y_train)"
   ]
  },
  {
   "cell_type": "code",
   "execution_count": 84,
   "metadata": {},
   "outputs": [],
   "source": [
    "y_pred = xgboost_model.predict(X_test)"
   ]
  },
  {
   "cell_type": "code",
   "execution_count": 85,
   "metadata": {},
   "outputs": [
    {
     "data": {
      "text/plain": [
       "4364.144701131557"
      ]
     },
     "execution_count": 85,
     "metadata": {},
     "output_type": "execute_result"
    }
   ],
   "source": [
    "mean_absolute_error(y_test, y_pred)"
   ]
  },
  {
   "cell_type": "code",
   "execution_count": 86,
   "metadata": {},
   "outputs": [],
   "source": [
    "### The DecisionTreeRegressor and XGBoostRegressor are both close. Now let us swap the training and test data\n",
    "### and compare results."
   ]
  },
  {
   "cell_type": "code",
   "execution_count": 87,
   "metadata": {},
   "outputs": [],
   "source": [
    "X_train, y_train = plant2[['AMBIENT_TEMPERATURE']], plant2['DC_POWER']"
   ]
  },
  {
   "cell_type": "code",
   "execution_count": 88,
   "metadata": {},
   "outputs": [],
   "source": [
    "X_test, y_test = plant1[['AMBIENT_TEMPERATURE']], plant1['DC_POWER']"
   ]
  },
  {
   "cell_type": "code",
   "execution_count": 89,
   "metadata": {},
   "outputs": [],
   "source": [
    "xgboost_model = XGBRegressor()"
   ]
  },
  {
   "cell_type": "code",
   "execution_count": 90,
   "metadata": {},
   "outputs": [
    {
     "data": {
      "text/plain": [
       "XGBRegressor(base_score=0.5, booster='gbtree', colsample_bylevel=1,\n",
       "             colsample_bynode=1, colsample_bytree=1, gamma=0, gpu_id=-1,\n",
       "             importance_type='gain', interaction_constraints='',\n",
       "             learning_rate=0.300000012, max_delta_step=0, max_depth=6,\n",
       "             min_child_weight=1, missing=nan, monotone_constraints='()',\n",
       "             n_estimators=100, n_jobs=0, num_parallel_tree=1, random_state=0,\n",
       "             reg_alpha=0, reg_lambda=1, scale_pos_weight=1, subsample=1,\n",
       "             tree_method='exact', validate_parameters=1, verbosity=None)"
      ]
     },
     "execution_count": 90,
     "metadata": {},
     "output_type": "execute_result"
    }
   ],
   "source": [
    "xgboost_model.fit(X_train, y_train)"
   ]
  },
  {
   "cell_type": "code",
   "execution_count": 91,
   "metadata": {},
   "outputs": [],
   "source": [
    "y_pred = xgboost_model.predict(X_test)"
   ]
  },
  {
   "cell_type": "code",
   "execution_count": 92,
   "metadata": {},
   "outputs": [
    {
     "data": {
      "text/plain": [
       "3005.766709281277"
      ]
     },
     "execution_count": 92,
     "metadata": {},
     "output_type": "execute_result"
    }
   ],
   "source": [
    "mean_absolute_error(y_test, y_pred)"
   ]
  },
  {
   "cell_type": "code",
   "execution_count": 93,
   "metadata": {},
   "outputs": [],
   "source": [
    "decisiontree_model = DecisionTreeRegressor()"
   ]
  },
  {
   "cell_type": "code",
   "execution_count": 94,
   "metadata": {},
   "outputs": [
    {
     "data": {
      "text/plain": [
       "DecisionTreeRegressor()"
      ]
     },
     "execution_count": 94,
     "metadata": {},
     "output_type": "execute_result"
    }
   ],
   "source": [
    "decisiontree_model.fit(X_train, y_train)"
   ]
  },
  {
   "cell_type": "markdown",
   "metadata": {},
   "source": [
    "## Predict Model "
   ]
  },
  {
   "cell_type": "code",
   "execution_count": 95,
   "metadata": {},
   "outputs": [],
   "source": [
    "y_pred = decisiontree_model.predict(X_test) "
   ]
  },
  {
   "cell_type": "code",
   "execution_count": 96,
   "metadata": {},
   "outputs": [
    {
     "data": {
      "text/plain": [
       "3003.396221104327"
      ]
     },
     "execution_count": 96,
     "metadata": {},
     "output_type": "execute_result"
    }
   ],
   "source": [
    "mean_absolute_error(y_test, y_pred)"
   ]
  },
  {
   "cell_type": "code",
   "execution_count": 97,
   "metadata": {},
   "outputs": [],
   "source": [
    "### Notice the drastic performance increase on both models when we opt to using the more variable data of plant 2 compared\n",
    "### to that of plant 1."
   ]
  },
  {
   "cell_type": "code",
   "execution_count": 98,
   "metadata": {},
   "outputs": [],
   "source": [
    "### So now we can successfully predict the dc power based on ambient temperature for plant 1 or 2. We will not predict\n",
    "### the ac power for brevity, note that it is the exact same process but replacing 'DC_POWER' with 'AC_POWER'"
   ]
  },
  {
   "cell_type": "code",
   "execution_count": 99,
   "metadata": {},
   "outputs": [],
   "source": [
    "### Now we can predict irradiation levels which identifies the need for panel cleaning/maintenance."
   ]
  },
  {
   "cell_type": "code",
   "execution_count": 100,
   "metadata": {},
   "outputs": [],
   "source": [
    "X_train, y_train = plant2[['AMBIENT_TEMPERATURE']], plant2['IRRADIATION']"
   ]
  },
  {
   "cell_type": "code",
   "execution_count": 101,
   "metadata": {},
   "outputs": [],
   "source": [
    "X_test, y_test = plant1[['AMBIENT_TEMPERATURE']], plant1['IRRADIATION']"
   ]
  },
  {
   "cell_type": "code",
   "execution_count": 102,
   "metadata": {},
   "outputs": [],
   "source": [
    "decisiontree_model = DecisionTreeRegressor()"
   ]
  },
  {
   "cell_type": "code",
   "execution_count": 103,
   "metadata": {},
   "outputs": [
    {
     "data": {
      "text/plain": [
       "DecisionTreeRegressor()"
      ]
     },
     "execution_count": 103,
     "metadata": {},
     "output_type": "execute_result"
    }
   ],
   "source": [
    "decisiontree_model.fit(X_train, y_train)"
   ]
  },
  {
   "cell_type": "code",
   "execution_count": 104,
   "metadata": {},
   "outputs": [],
   "source": [
    "y_pred = decisiontree_model.predict(X_test)"
   ]
  },
  {
   "cell_type": "code",
   "execution_count": 105,
   "metadata": {},
   "outputs": [
    {
     "data": {
      "text/plain": [
       "0.17490564545257953"
      ]
     },
     "execution_count": 105,
     "metadata": {},
     "output_type": "execute_result"
    }
   ],
   "source": [
    "mean_absolute_error(y_test, y_pred)"
   ]
  },
  {
   "cell_type": "code",
   "execution_count": 106,
   "metadata": {},
   "outputs": [],
   "source": [
    "xgboost_model = XGBRegressor()"
   ]
  },
  {
   "cell_type": "code",
   "execution_count": 107,
   "metadata": {},
   "outputs": [
    {
     "data": {
      "text/plain": [
       "XGBRegressor(base_score=0.5, booster='gbtree', colsample_bylevel=1,\n",
       "             colsample_bynode=1, colsample_bytree=1, gamma=0, gpu_id=-1,\n",
       "             importance_type='gain', interaction_constraints='',\n",
       "             learning_rate=0.300000012, max_delta_step=0, max_depth=6,\n",
       "             min_child_weight=1, missing=nan, monotone_constraints='()',\n",
       "             n_estimators=100, n_jobs=0, num_parallel_tree=1, random_state=0,\n",
       "             reg_alpha=0, reg_lambda=1, scale_pos_weight=1, subsample=1,\n",
       "             tree_method='exact', validate_parameters=1, verbosity=None)"
      ]
     },
     "execution_count": 107,
     "metadata": {},
     "output_type": "execute_result"
    }
   ],
   "source": [
    "xgboost_model.fit(X_train, y_train)"
   ]
  },
  {
   "cell_type": "markdown",
   "metadata": {},
   "source": [
    "## Predict Model "
   ]
  },
  {
   "cell_type": "code",
   "execution_count": 108,
   "metadata": {},
   "outputs": [],
   "source": [
    "y_pred = xgboost_model.predict(X_test)"
   ]
  },
  {
   "cell_type": "code",
   "execution_count": 109,
   "metadata": {},
   "outputs": [
    {
     "data": {
      "text/plain": [
       "0.1541048447831368"
      ]
     },
     "execution_count": 109,
     "metadata": {},
     "output_type": "execute_result"
    }
   ],
   "source": [
    "mean_absolute_error(y_test, y_pred)"
   ]
  },
  {
   "cell_type": "markdown",
   "metadata": {},
   "source": [
    "## Generate Pickle For Deploy"
   ]
  },
  {
   "cell_type": "code",
   "execution_count": 112,
   "metadata": {},
   "outputs": [],
   "source": [
    "import pickle\n",
    "pickle.dump(decisiontree_model,open('model_solar_generation.pkl','wb'))"
   ]
  },
  {
   "cell_type": "code",
   "execution_count": 113,
   "metadata": {},
   "outputs": [],
   "source": [
    "model = pickle.load(open('model_solar_radiation.pkl','rb'))"
   ]
  },
  {
   "cell_type": "code",
   "execution_count": 110,
   "metadata": {},
   "outputs": [],
   "source": [
    "### In this case, the XGBoostRegressor performs better than the DecisionTreeRegressor. We are successfully able\n",
    "### to identify the need for panel cleaning/maintenance by predicting the irradiation based on ambient temperature. "
   ]
  }
 ],
 "metadata": {
  "kernelspec": {
   "display_name": "Python 3",
   "language": "python",
   "name": "python3"
  },
  "language_info": {
   "codemirror_mode": {
    "name": "ipython",
    "version": 3
   },
   "file_extension": ".py",
   "mimetype": "text/x-python",
   "name": "python",
   "nbconvert_exporter": "python",
   "pygments_lexer": "ipython3",
   "version": "3.7.4"
  }
 },
 "nbformat": 4,
 "nbformat_minor": 2
}
